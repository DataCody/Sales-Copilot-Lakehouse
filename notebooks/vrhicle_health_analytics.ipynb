{
 "cells": [
  {
   "cell_type": "markdown",
   "id": "b0f9f309",
   "metadata": {},
   "source": [
    "## Vehicle Health Analytics"
   ]
  },
  {
   "cell_type": "code",
   "execution_count": 1,
   "id": "19c1af49",
   "metadata": {},
   "outputs": [
    {
     "name": "stdout",
     "output_type": "stream",
     "text": [
      "Requirement already satisfied: dremio-simple-query in /Users/ce/.pyenv/versions/3.10.13/lib/python3.10/site-packages (0.0.4)\n",
      "Requirement already satisfied: duckdb>=0.9.2 in /Users/ce/.pyenv/versions/3.10.13/lib/python3.10/site-packages (from dremio-simple-query) (1.3.0)\n",
      "Requirement already satisfied: pyarrow>=14.0.2 in /Users/ce/.pyenv/versions/3.10.13/lib/python3.10/site-packages (from dremio-simple-query) (20.0.0)\n",
      "Requirement already satisfied: requests>=2.28.2 in /Users/ce/.pyenv/versions/3.10.13/lib/python3.10/site-packages (from dremio-simple-query) (2.32.3)\n",
      "Requirement already satisfied: polars>=0.20.5 in /Users/ce/.pyenv/versions/3.10.13/lib/python3.10/site-packages (from dremio-simple-query) (1.30.0)\n",
      "Requirement already satisfied: pandas>=2.1.4 in /Users/ce/.pyenv/versions/3.10.13/lib/python3.10/site-packages (from dremio-simple-query) (2.2.3)\n",
      "Requirement already satisfied: numpy>=1.22.4 in /Users/ce/.pyenv/versions/3.10.13/lib/python3.10/site-packages (from pandas>=2.1.4->dremio-simple-query) (2.2.6)\n",
      "Requirement already satisfied: python-dateutil>=2.8.2 in /Users/ce/.pyenv/versions/3.10.13/lib/python3.10/site-packages (from pandas>=2.1.4->dremio-simple-query) (2.9.0.post0)\n",
      "Requirement already satisfied: pytz>=2020.1 in /Users/ce/.pyenv/versions/3.10.13/lib/python3.10/site-packages (from pandas>=2.1.4->dremio-simple-query) (2025.2)\n",
      "Requirement already satisfied: tzdata>=2022.7 in /Users/ce/.pyenv/versions/3.10.13/lib/python3.10/site-packages (from pandas>=2.1.4->dremio-simple-query) (2025.2)\n",
      "Requirement already satisfied: six>=1.5 in /Users/ce/.pyenv/versions/3.10.13/lib/python3.10/site-packages (from python-dateutil>=2.8.2->pandas>=2.1.4->dremio-simple-query) (1.17.0)\n",
      "Requirement already satisfied: charset-normalizer<4,>=2 in /Users/ce/.pyenv/versions/3.10.13/lib/python3.10/site-packages (from requests>=2.28.2->dremio-simple-query) (3.4.2)\n",
      "Requirement already satisfied: idna<4,>=2.5 in /Users/ce/.pyenv/versions/3.10.13/lib/python3.10/site-packages (from requests>=2.28.2->dremio-simple-query) (3.10)\n",
      "Requirement already satisfied: urllib3<3,>=1.21.1 in /Users/ce/.pyenv/versions/3.10.13/lib/python3.10/site-packages (from requests>=2.28.2->dremio-simple-query) (2.4.0)\n",
      "Requirement already satisfied: certifi>=2017.4.17 in /Users/ce/.pyenv/versions/3.10.13/lib/python3.10/site-packages (from requests>=2.28.2->dremio-simple-query) (2025.4.26)\n"
     ]
    }
   ],
   "source": [
    "!pip install dremio-simple-query"
   ]
  },
  {
   "cell_type": "code",
   "execution_count": 2,
   "id": "4744b672",
   "metadata": {},
   "outputs": [],
   "source": [
    "from dremio_simple_query.connect import get_token\n",
    "from dotenv import load_dotenv\n",
    "import os\n",
    "\n",
    "# Load environment variables from .env\n",
    "load_dotenv()\n",
    "\n",
    "# Get credentials from environment\n",
    "DREMIO_USER = os.getenv(\"DREMIO_USER\")\n",
    "DREMIO_PASSWORD = os.getenv(\"DREMIO_PASSWORD\")\n",
    "\n",
    "# URL to Login Endpoint\n",
    "login_endpoint = \"http://localhost:9047/apiv2/login\"\n",
    "\n",
    "# Payload for Login\n",
    "payload = {\n",
    "    \"userName\": DREMIO_USER,\n",
    "    \"password\": DREMIO_PASSWORD\n",
    "}\n",
    "\n",
    "# Get token from API\n",
    "token = get_token(login_endpoint, payload)"
   ]
  },
  {
   "cell_type": "markdown",
   "id": "f8f9e576",
   "metadata": {},
   "source": [
    "## 1. Maintenance frequency analysis"
   ]
  },
  {
   "cell_type": "markdown",
   "id": "08941e4c",
   "metadata": {},
   "source": []
  },
  {
   "cell_type": "markdown",
   "id": "2063c023",
   "metadata": {},
   "source": [
    "## 2. Outcome analysis"
   ]
  },
  {
   "cell_type": "code",
   "execution_count": null,
   "id": "401c9e5c",
   "metadata": {},
   "outputs": [],
   "source": []
  },
  {
   "cell_type": "markdown",
   "id": "df6d69a5",
   "metadata": {},
   "source": [
    "## 3. Alerts analysis"
   ]
  },
  {
   "cell_type": "code",
   "execution_count": null,
   "id": "c7896af3",
   "metadata": {},
   "outputs": [],
   "source": []
  },
  {
   "cell_type": "markdown",
   "id": "b3993d67",
   "metadata": {},
   "source": []
  }
 ],
 "metadata": {
  "kernelspec": {
   "display_name": "3.10.13",
   "language": "python",
   "name": "python3"
  },
  "language_info": {
   "codemirror_mode": {
    "name": "ipython",
    "version": 3
   },
   "file_extension": ".py",
   "mimetype": "text/x-python",
   "name": "python",
   "nbconvert_exporter": "python",
   "pygments_lexer": "ipython3",
   "version": "3.10.13"
  }
 },
 "nbformat": 4,
 "nbformat_minor": 5
}

{
 "cells": [
  {
   "cell_type": "code",
   "execution_count": null,
   "id": "f6d00436",
   "metadata": {},
   "outputs": [],
   "source": [
    "#Install Ollama\n",
    "!curl https://ollama.ai/install.sh | sh"
   ]
  },
  {
   "cell_type": "code",
   "execution_count": null,
   "id": "73bef609",
   "metadata": {},
   "outputs": [],
   "source": [
    "%pip install aiohttp pyngrok\n",
    "\n",
    "import os\n",
    "import asyncio\n",
    "\n",
    "# Set LD_LIBRARY_PATH so the system NVIDIA library\n",
    "os.environ.update({'LD_LIBRARY_PATH': '/usr/lib64-nvidia'})\n",
    "\n",
    "async def run_process(cmd):\n",
    "  print('>>> starting', *cmd)\n",
    "  p = await asyncio.subprocess.create_subprocess_exec(\n",
    "      *cmd,\n",
    "      stdout=asyncio.subprocess.PIPE,\n",
    "      stderr=asyncio.subprocess.PIPE,\n",
    "  )\n",
    "\n",
    "  async def pipe(lines):\n",
    "    async for line in lines:\n",
    "      print(line.strip().decode('utf-8'))\n",
    "\n",
    "  await asyncio.gather(\n",
    "      pipe(p.stdout),\n",
    "      pipe(p.stderr),\n",
    "  )\n",
    "\n",
    "#register an account at ngrok.com and create an authtoken and place it here\n",
    "await asyncio.gather(\n",
    "    run_process(['ngrok', 'config', 'add-authtoken','2y5CJHCvgMkFHMwWgX8Xx6tYCBi_7sNYFdttUanVsLtgUPVSh'])\n",
    ")\n",
    "\n",
    "await asyncio.gather(\n",
    "    run_process(['ollama', 'serve']),\n",
    "    run_process(['ollama', 'pull', 'nomic-embed-text']),\n",
    "    run_process(['ollama', 'pull', 'mistral']),\n",
    "    run_process(['ngrok', 'http', '--log', 'stderr', '11434', '--host-header', 'localhost:11434'])\n",
    ")"
   ]
  }
 ],
 "metadata": {
  "language_info": {
   "name": "python"
  }
 },
 "nbformat": 4,
 "nbformat_minor": 5
}

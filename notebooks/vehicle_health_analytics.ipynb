{
 "cells": [
  {
   "cell_type": "markdown",
   "id": "b0f9f309",
   "metadata": {},
   "source": [
    "## Vehicle Health Analytics"
   ]
  },
  {
   "cell_type": "code",
   "execution_count": null,
   "id": "4744b672",
   "metadata": {},
   "outputs": [],
   "source": [
    "%pip install dremio-simple-query\n",
    "from dremio_simple_query.connect import get_token\n",
    "from dotenv import load_dotenv\n",
    "import os\n",
    "\n",
    "# Load environment variables from .env\n",
    "load_dotenv()\n",
    "\n",
    "# Get credentials from environment\n",
    "DREMIO_USER = os.getenv(\"DREMIO_USER\")\n",
    "DREMIO_PASSWORD = os.getenv(\"DREMIO_PASSWORD\")\n",
    "\n",
    "# URL to Login Endpoint\n",
    "login_endpoint = \"http://localhost:9047/apiv2/login\"\n",
    "\n",
    "# Payload for Login\n",
    "payload = {\n",
    "    \"userName\": DREMIO_USER,\n",
    "    \"password\": DREMIO_PASSWORD\n",
    "}\n",
    "\n",
    "# Get token from API\n",
    "token = get_token(login_endpoint, payload)"
   ]
  },
  {
   "cell_type": "code",
   "execution_count": 5,
   "id": "7dad900d",
   "metadata": {},
   "outputs": [
    {
     "data": {
      "application/vnd.microsoft.datawrangler.viewer.v0+json": {
       "columns": [
        {
         "name": "index",
         "rawType": "int64",
         "type": "integer"
        },
        {
         "name": "VehicleID",
         "rawType": "object",
         "type": "string"
        },
        {
         "name": "Model",
         "rawType": "object",
         "type": "string"
        },
        {
         "name": "ManufacturingYear",
         "rawType": "int64",
         "type": "integer"
        },
        {
         "name": "Alerts",
         "rawType": "object",
         "type": "unknown"
        },
        {
         "name": "MaintenanceHistory",
         "rawType": "object",
         "type": "unknown"
        }
       ],
       "ref": "b324c4df-0589-4558-8526-ff48535666da",
       "rows": [
        [
         "0",
         "VEH20442",
         "AeroFlow",
         "2021",
         "[{'AlertID': 'ALERT8942', 'Date': '2021-01-25', 'Details': {'Pressure': '34psi', 'RecommendedAction': None, 'Temperature': None}, 'Resolved': True, 'Type': 'Low Tire Pressure'}]",
         "[{'Date': '2023-05-10', 'Details': {'BatteryHealth': None, 'NextCheckupDue': '2023-07-25'}, 'MaintenanceID': 'MAINT2258', 'Outcome': 'Issue Found', 'Type': 'Brake Inspection'}\n {'Date': '2022-08-02', 'Details': {'BatteryHealth': None, 'NextCheckupDue': '2020-07-10'}, 'MaintenanceID': 'MAINT1414', 'Outcome': 'Good', 'Type': 'Engine Diagnostic'}\n {'Date': '2024-06-01', 'Details': {'BatteryHealth': None, 'NextCheckupDue': '2022-11-03'}, 'MaintenanceID': 'MAINT5998', 'Outcome': 'Good', 'Type': 'Brake Inspection'}\n {'Date': '2020-01-27', 'Details': {'BatteryHealth': '84%', 'NextCheckupDue': '2023-10-16'}, 'MaintenanceID': 'MAINT2250', 'Outcome': 'Issue Found', 'Type': 'Battery Check'}\n {'Date': '2024-11-18', 'Details': {'BatteryHealth': '85%', 'NextCheckupDue': '2023-12-26'}, 'MaintenanceID': 'MAINT6311', 'Outcome': 'Good', 'Type': 'Battery Check'}]"
        ],
        [
         "1",
         "VEH23016",
         "AeroFlow",
         "2024",
         "[{'AlertID': 'ALERT7020', 'Date': '2020-05-08', 'Details': {'Pressure': None, 'RecommendedAction': 'Service Check', 'Temperature': None}, 'Resolved': True, 'Type': 'Engine Warning'}\n {'AlertID': 'ALERT8652', 'Date': '2024-04-06', 'Details': {'Pressure': '28psi', 'RecommendedAction': None, 'Temperature': None}, 'Resolved': True, 'Type': 'Low Tire Pressure'}]",
         "[{'Date': '2022-12-05', 'Details': {'BatteryHealth': None, 'NextCheckupDue': '2021-10-07'}, 'MaintenanceID': 'MAINT8742', 'Outcome': 'Issue Found', 'Type': 'Brake Inspection'}\n {'Date': '2024-05-10', 'Details': {'BatteryHealth': None, 'NextCheckupDue': '2025-02-26'}, 'MaintenanceID': 'MAINT1354', 'Outcome': 'Performed', 'Type': 'Tire Rotation'}\n {'Date': '2020-05-16', 'Details': {'BatteryHealth': None, 'NextCheckupDue': '2020-07-17'}, 'MaintenanceID': 'MAINT3706', 'Outcome': 'Performed', 'Type': 'Tire Rotation'}]"
        ],
        [
         "2",
         "VEH67132",
         "AeroFlow",
         "2023",
         "[{'AlertID': 'ALERT5049', 'Date': '2022-02-06', 'Details': {'Pressure': None, 'RecommendedAction': 'Service Check', 'Temperature': None}, 'Resolved': False, 'Type': 'Engine Warning'}]",
         "[{'Date': '2023-05-16', 'Details': {'BatteryHealth': None, 'NextCheckupDue': '2021-11-06'}, 'MaintenanceID': 'MAINT8040', 'Outcome': 'Good', 'Type': 'Tire Rotation'}\n {'Date': '2021-03-27', 'Details': {'BatteryHealth': None, 'NextCheckupDue': '2022-06-01'}, 'MaintenanceID': 'MAINT9111', 'Outcome': 'Issue Found', 'Type': 'Brake Inspection'}\n {'Date': '2021-01-29', 'Details': {'BatteryHealth': None, 'NextCheckupDue': '2024-04-21'}, 'MaintenanceID': 'MAINT8717', 'Outcome': 'Performed', 'Type': 'Engine Diagnostic'}]"
        ],
        [
         "3",
         "VEH31263",
         "EcoSprint",
         "2022",
         "[{'AlertID': 'ALERT9173', 'Date': '2021-08-25', 'Details': {'Pressure': None, 'RecommendedAction': 'Service Check', 'Temperature': '139°F'}, 'Resolved': True, 'Type': 'High Battery Temperature'}]",
         "[{'Date': '2024-06-18', 'Details': {'BatteryHealth': None, 'NextCheckupDue': '2024-10-06'}, 'MaintenanceID': 'MAINT7081', 'Outcome': 'Good', 'Type': 'Tire Rotation'}\n {'Date': '2023-06-09', 'Details': {'BatteryHealth': None, 'NextCheckupDue': '2024-10-06'}, 'MaintenanceID': 'MAINT8131', 'Outcome': 'Issue Found', 'Type': 'Tire Rotation'}\n {'Date': '2022-07-25', 'Details': {'BatteryHealth': '89%', 'NextCheckupDue': '2025-04-12'}, 'MaintenanceID': 'MAINT9716', 'Outcome': 'Issue Found', 'Type': 'Battery Check'}]"
        ],
        [
         "4",
         "VEH62953",
         "UrbanGlide",
         "2022",
         "[{'AlertID': 'ALERT8582', 'Date': '2020-02-18', 'Details': {'Pressure': None, 'RecommendedAction': 'Service Check', 'Temperature': '134°F'}, 'Resolved': False, 'Type': 'High Battery Temperature'}\n {'AlertID': 'ALERT7201', 'Date': '2021-08-11', 'Details': {'Pressure': None, 'RecommendedAction': 'Service Check', 'Temperature': '129°F'}, 'Resolved': False, 'Type': 'High Battery Temperature'}]",
         "[{'Date': '2022-11-21', 'Details': {'BatteryHealth': None, 'NextCheckupDue': '2024-07-10'}, 'MaintenanceID': 'MAINT2322', 'Outcome': 'Issue Found', 'Type': 'Tire Rotation'}]"
        ]
       ],
       "shape": {
        "columns": 5,
        "rows": 5
       }
      },
      "text/html": [
       "<div>\n",
       "<style scoped>\n",
       "    .dataframe tbody tr th:only-of-type {\n",
       "        vertical-align: middle;\n",
       "    }\n",
       "\n",
       "    .dataframe tbody tr th {\n",
       "        vertical-align: top;\n",
       "    }\n",
       "\n",
       "    .dataframe thead th {\n",
       "        text-align: right;\n",
       "    }\n",
       "</style>\n",
       "<table border=\"1\" class=\"dataframe\">\n",
       "  <thead>\n",
       "    <tr style=\"text-align: right;\">\n",
       "      <th></th>\n",
       "      <th>VehicleID</th>\n",
       "      <th>Model</th>\n",
       "      <th>ManufacturingYear</th>\n",
       "      <th>Alerts</th>\n",
       "      <th>MaintenanceHistory</th>\n",
       "    </tr>\n",
       "  </thead>\n",
       "  <tbody>\n",
       "    <tr>\n",
       "      <th>0</th>\n",
       "      <td>VEH20442</td>\n",
       "      <td>AeroFlow</td>\n",
       "      <td>2021</td>\n",
       "      <td>[{'AlertID': 'ALERT8942', 'Date': '2021-01-25'...</td>\n",
       "      <td>[{'Date': '2023-05-10', 'Details': {'BatteryHe...</td>\n",
       "    </tr>\n",
       "    <tr>\n",
       "      <th>1</th>\n",
       "      <td>VEH23016</td>\n",
       "      <td>AeroFlow</td>\n",
       "      <td>2024</td>\n",
       "      <td>[{'AlertID': 'ALERT7020', 'Date': '2020-05-08'...</td>\n",
       "      <td>[{'Date': '2022-12-05', 'Details': {'BatteryHe...</td>\n",
       "    </tr>\n",
       "    <tr>\n",
       "      <th>2</th>\n",
       "      <td>VEH67132</td>\n",
       "      <td>AeroFlow</td>\n",
       "      <td>2023</td>\n",
       "      <td>[{'AlertID': 'ALERT5049', 'Date': '2022-02-06'...</td>\n",
       "      <td>[{'Date': '2023-05-16', 'Details': {'BatteryHe...</td>\n",
       "    </tr>\n",
       "    <tr>\n",
       "      <th>3</th>\n",
       "      <td>VEH31263</td>\n",
       "      <td>EcoSprint</td>\n",
       "      <td>2022</td>\n",
       "      <td>[{'AlertID': 'ALERT9173', 'Date': '2021-08-25'...</td>\n",
       "      <td>[{'Date': '2024-06-18', 'Details': {'BatteryHe...</td>\n",
       "    </tr>\n",
       "    <tr>\n",
       "      <th>4</th>\n",
       "      <td>VEH62953</td>\n",
       "      <td>UrbanGlide</td>\n",
       "      <td>2022</td>\n",
       "      <td>[{'AlertID': 'ALERT8582', 'Date': '2020-02-18'...</td>\n",
       "      <td>[{'Date': '2022-11-21', 'Details': {'BatteryHe...</td>\n",
       "    </tr>\n",
       "  </tbody>\n",
       "</table>\n",
       "</div>"
      ],
      "text/plain": [
       "  VehicleID       Model  ManufacturingYear  \\\n",
       "0  VEH20442    AeroFlow               2021   \n",
       "1  VEH23016    AeroFlow               2024   \n",
       "2  VEH67132    AeroFlow               2023   \n",
       "3  VEH31263   EcoSprint               2022   \n",
       "4  VEH62953  UrbanGlide               2022   \n",
       "\n",
       "                                              Alerts  \\\n",
       "0  [{'AlertID': 'ALERT8942', 'Date': '2021-01-25'...   \n",
       "1  [{'AlertID': 'ALERT7020', 'Date': '2020-05-08'...   \n",
       "2  [{'AlertID': 'ALERT5049', 'Date': '2022-02-06'...   \n",
       "3  [{'AlertID': 'ALERT9173', 'Date': '2021-08-25'...   \n",
       "4  [{'AlertID': 'ALERT8582', 'Date': '2020-02-18'...   \n",
       "\n",
       "                                  MaintenanceHistory  \n",
       "0  [{'Date': '2023-05-10', 'Details': {'BatteryHe...  \n",
       "1  [{'Date': '2022-12-05', 'Details': {'BatteryHe...  \n",
       "2  [{'Date': '2023-05-16', 'Details': {'BatteryHe...  \n",
       "3  [{'Date': '2024-06-18', 'Details': {'BatteryHe...  \n",
       "4  [{'Date': '2022-11-21', 'Details': {'BatteryHe...  "
      ]
     },
     "execution_count": 5,
     "metadata": {},
     "output_type": "execute_result"
    }
   ],
   "source": [
    "from pyarrow import flight\n",
    "import pandas as pd\n",
    "\n",
    "# Connect to Dremio Flight Server\n",
    "client = flight.connect(\"grpc+tcp://localhost:32010\")\n",
    "\n",
    "# Authenticate with the token\n",
    "headers = [\n",
    "    (b'authorization', f'Bearer {token}'.encode('utf-8')),\n",
    "]\n",
    "\n",
    "# Query to get all products reviews\n",
    "sql = \"SELECT * FROM catalog.silver.vehicle_health_logs\"\n",
    "\n",
    "# Create a get all product reviews\n",
    "descriptor = flight.FlightDescriptor.for_command(sql)\n",
    "\n",
    "# Perform the query using call_options to include headers\n",
    "options = flight.FlightCallOptions(headers=headers)\n",
    "flight_info = client.get_flight_info(descriptor, options)\n",
    "reader = client.do_get(flight_info.endpoints[0].ticket, options)\n",
    "\n",
    "# Convert to Pandas DataFrame\n",
    "vehicle_health = reader.read_pandas()\n",
    "\n",
    "# Display the first few rows of the DataFrame\n",
    "vehicle_health.head()"
   ]
  },
  {
   "cell_type": "markdown",
   "id": "f8f9e576",
   "metadata": {},
   "source": [
    "## 1. Maintenance frequency analysis"
   ]
  },
  {
   "cell_type": "code",
   "execution_count": 7,
   "id": "08941e4c",
   "metadata": {},
   "outputs": [
    {
     "name": "stdout",
     "output_type": "stream",
     "text": [
      "Maintenance Frequency:\n",
      "Type\n",
      "Tire Rotation        2429\n",
      "Battery Check        2416\n",
      "Brake Inspection     2392\n",
      "Engine Diagnostic    2388\n",
      "Name: count, dtype: int64\n"
     ]
    }
   ],
   "source": [
    "import pandas as pd\n",
    "from pandas import json_normalize\n",
    "\n",
    "# Flatten MaintenanceHistory\n",
    "maintenance_records = json_normalize(vehicle_health['MaintenanceHistory'].explode().dropna())\n",
    "\n",
    "# Analysis: Maintenance Frequency\n",
    "maintenance_frequency = maintenance_records['Type'].value_counts()\n",
    "\n",
    "# Display the maintenance frequency\n",
    "print(\"Maintenance Frequency:\")\n",
    "print(maintenance_frequency)"
   ]
  },
  {
   "cell_type": "markdown",
   "id": "2063c023",
   "metadata": {},
   "source": [
    "## 2. Outcome analysis"
   ]
  },
  {
   "cell_type": "code",
   "execution_count": 8,
   "id": "401c9e5c",
   "metadata": {},
   "outputs": [
    {
     "name": "stdout",
     "output_type": "stream",
     "text": [
      "\n",
      "Alerts Frequency:\n",
      "Type\n",
      "Engine Warning              2129\n",
      "High Battery Temperature    2119\n",
      "Low Tire Pressure           2108\n",
      "Name: count, dtype: int64\n"
     ]
    }
   ],
   "source": [
    "# Flatten Alerts\n",
    "alerts_records = json_normalize(vehicle_health['Alerts'].explode().dropna())\n",
    "\n",
    "# Analysis: Alerts Frequency\n",
    "alerts_frequency = alerts_records['Type'].value_counts()\n",
    "print(\"\\nAlerts Frequency:\")\n",
    "print(alerts_frequency)"
   ]
  },
  {
   "cell_type": "markdown",
   "id": "df6d69a5",
   "metadata": {},
   "source": [
    "## 3. Alerts analysis"
   ]
  },
  {
   "cell_type": "code",
   "execution_count": 13,
   "id": "0e6c8d32",
   "metadata": {},
   "outputs": [
    {
     "data": {
      "image/png": "[encoded data removed]",
      "text/plain": [
       "<Figure size 640x480 with 1 Axes>"
      ]
     },
     "metadata": {},
     "output_type": "display_data"
    },
    {
     "data": {
      "image/png": "[encoded data removed]",
      "text/plain": [
       "<Figure size 640x480 with 1 Axes>"
      ]
     },
     "metadata": {},
     "output_type": "display_data"
    }
   ],
   "source": [
    "import matplotlib.pyplot as plt\n",
    "\n",
    "# Plot Alerts Analysis\n",
    "alerts_types = alerts_records['Type'].value_counts()\n",
    "alerts_types.plot(kind='bar', title='Alerts Types Distribution')\n",
    "plt.xlabel('Alert Type')\n",
    "plt.ylabel('Frequency')\n",
    "plt.show()\n",
    "\n",
    "\n",
    "# Plot alter resolutions\n",
    "alerts_resolutions = alerts_records['Resolved'].value_counts()\n",
    "alerts_resolutions.plot(kind='bar', title='Alert Resolutions')\n",
    "plt.xlabel('Resolution Status')\n",
    "plt.ylabel('Frequency')\n",
    "plt.show()"
   ]
  }
 ],
 "metadata": {
  "kernelspec": {
   "display_name": "3.10.13",
   "language": "python",
   "name": "python3"
  },
  "language_info": {
   "codemirror_mode": {
    "name": "ipython",
    "version": 3
   },
   "file_extension": ".py",
   "mimetype": "text/x-python",
   "name": "python",
   "nbconvert_exporter": "python",
   "pygments_lexer": "ipython3",
   "version": "3.10.13"
  }
 },
 "nbformat": 4,
 "nbformat_minor": 5
}
